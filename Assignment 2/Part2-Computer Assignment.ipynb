{
 "cells": [
  {
   "cell_type": "markdown",
   "metadata": {},
   "source": [
    "# HW 2: Part II: Computer Assignment"
   ]
  },
  {
   "cell_type": "code",
   "execution_count": 67,
   "metadata": {},
   "outputs": [],
   "source": [
    "#Import appropriate libraries\n",
    "\n",
    "import numpy as np\n",
    "import matplotlib.pyplot as plt\n",
    "from numpy import genfromtxt\n",
    "from pandas import read_csv\n",
    "import pandas as pd"
   ]
  },
  {
   "cell_type": "markdown",
   "metadata": {},
   "source": [
    "# 1. Load Data"
   ]
  },
  {
   "cell_type": "code",
   "execution_count": 68,
   "metadata": {},
   "outputs": [
    {
     "name": "stdout",
     "output_type": "stream",
     "text": [
      "82\n"
     ]
    }
   ],
   "source": [
    "fill_vals = {           'Lot.Area':0, 'Order': 0, 'PID': 0, 'Lot.Frontage':0, \n",
    "                        'Year.Built':0,'Mas.Vnr.Area':0, 'BsmtFin.SF.1':0, \n",
    "                        'BsmtFin.SF.2':0,'Bsmt.Unf.SF': 0 , 'Total.Bsmt.SF':0, \n",
    "                        'X1st.Flr.SF':0,'X2nd.Flr.SF':0, 'Low.Qual.Fin.SF':0, \n",
    "                        'Gr.Liv.Area':0,'Garage.Area':0, 'Wood.Deck.SF':0, \n",
    "                        'Open.Porch.SF':0,'Enclosed.Porch':0, 'X3Ssn.Porch':0, \n",
    "                        'Screen.Porch':0,'Pool.Area':0,'Garage.Yr.Blt':0, \n",
    "                        'Misc.Val':0, 'SalePrice': 0, 'MS.SubClass':'m', 'MS.Zoning':'m', 'Street':'m',\n",
    "                        'Alley':'m', 'Lot.Shape':'m', 'Land.Contour':'m',\n",
    "                        'Utilities':'m', 'Lot.Config':'m', 'Land.Slope':'m',\n",
    "                        'Neighborhood':'m', 'Condition.1':'m', 'Condition.2':'m',\n",
    "                        'Bldg.Type':'m', 'House.Style':'m', 'Overall.Qual':'m',\n",
    "                        'Overall.Cond':'m', 'Roof.Style':'m', 'Roof.Matl':'m',\n",
    "                        'Exterior.1st':'m', 'Exterior.2nd':'m', 'Mas.Vnr.Type':'m',\n",
    "                        'Exter.Qual':'m', 'Exter.Cond':'m', 'Foundation':'m',\n",
    "                        'Bsmt.Qual':'m', 'Bsmt.Cond':'m', 'Bsmt.Exposure':'m',\n",
    "                        'BsmtFin.Type.1':'m','BsmtFin.Type.2':'m', 'Heating':'m', 'Heating.QC':'m',\n",
    "                        'Central.Air':'m', 'Electrical':'m', 'Bsmt.Full.Bath':'m',\n",
    "                        'Bsmt.Half.Bath':'m', 'Full.Bath':'m', 'Half.Bath':'m',\n",
    "                        'Bedroom.AbvGr':'m', 'Kitchen.AbvGr':'m', 'Kitchen.Qual':'m',\n",
    "                        'TotRms.AbvGrd':'m', 'Functional':'m', 'Fireplaces':'m',\n",
    "                        'Fireplace.Qu':'m', 'Garage.Type':'m', 'Garage.Cars':'m',\n",
    "                        'Garage.Qual':'m', 'Garage.Cond':'m', 'Paved.Drive':'m',\n",
    "                        'Pool.QC':'m', 'Fence':'m', 'Sale.Type':'m', \n",
    "                        'Sale.Condition':'m', 'Misc.Feature':'m',  'Garage.Finish':'m',\n",
    "                        'Mo.Sold': 'm', 'Yr.Sold': 'm', 'Year.Remod.Add': 'm'}\n",
    "\n",
    "\n",
    "data = read_csv('ames.csv')\n",
    "print(len(fill_vals))"
   ]
  },
  {
   "cell_type": "markdown",
   "metadata": {},
   "source": [
    "# 2. Preprocessing"
   ]
  },
  {
   "cell_type": "code",
   "execution_count": 69,
   "metadata": {},
   "outputs": [],
   "source": [
    "#Question: We only have 71 variables in the numerical and discrete categories, what do we do about filling others?\n",
    "\n",
    "data = data.fillna(value = fill_vals)\n",
    "data.to_csv('data_filled.csv')"
   ]
  },
  {
   "cell_type": "markdown",
   "metadata": {},
   "source": [
    "# 3. Split Data into Train, Test and Validation"
   ]
  },
  {
   "cell_type": "code",
   "execution_count": 70,
   "metadata": {},
   "outputs": [
    {
     "name": "stdout",
     "output_type": "stream",
     "text": [
      "Index(['Order', 'PID', 'MS.SubClass', 'MS.Zoning', 'Lot.Frontage', 'Lot.Area',\n",
      "       'Street', 'Alley', 'Lot.Shape', 'Land.Contour', 'Utilities',\n",
      "       'Lot.Config', 'Land.Slope', 'Neighborhood', 'Condition.1',\n",
      "       'Condition.2', 'Bldg.Type', 'House.Style', 'Overall.Qual',\n",
      "       'Overall.Cond', 'Year.Built', 'Year.Remod.Add', 'Roof.Style',\n",
      "       'Roof.Matl', 'Exterior.1st', 'Exterior.2nd', 'Mas.Vnr.Type',\n",
      "       'Mas.Vnr.Area', 'Exter.Qual', 'Exter.Cond', 'Foundation', 'Bsmt.Qual',\n",
      "       'Bsmt.Cond', 'Bsmt.Exposure', 'BsmtFin.Type.1', 'BsmtFin.SF.1',\n",
      "       'BsmtFin.Type.2', 'BsmtFin.SF.2', 'Bsmt.Unf.SF', 'Total.Bsmt.SF',\n",
      "       'Heating', 'Heating.QC', 'Central.Air', 'Electrical', 'X1st.Flr.SF',\n",
      "       'X2nd.Flr.SF', 'Low.Qual.Fin.SF', 'Gr.Liv.Area', 'Bsmt.Full.Bath',\n",
      "       'Bsmt.Half.Bath', 'Full.Bath', 'Half.Bath', 'Bedroom.AbvGr',\n",
      "       'Kitchen.AbvGr', 'Kitchen.Qual', 'TotRms.AbvGrd', 'Functional',\n",
      "       'Fireplaces', 'Fireplace.Qu', 'Garage.Type', 'Garage.Yr.Blt',\n",
      "       'Garage.Finish', 'Garage.Cars', 'Garage.Area', 'Garage.Qual',\n",
      "       'Garage.Cond', 'Paved.Drive', 'Wood.Deck.SF', 'Open.Porch.SF',\n",
      "       'Enclosed.Porch', 'X3Ssn.Porch', 'Screen.Porch', 'Pool.Area', 'Pool.QC',\n",
      "       'Fence', 'Misc.Feature', 'Misc.Val', 'Mo.Sold', 'Yr.Sold', 'Sale.Type',\n",
      "       'Sale.Condition', 'SalePrice'],\n",
      "      dtype='object')\n",
      "(586, 82)\n",
      "(586, 82)\n",
      "(1758, 82)\n"
     ]
    }
   ],
   "source": [
    "print(data.columns)\n",
    "validation = data.loc[data['Order'] % 5 == 3] #Validation set is value % 5 == 3\n",
    "test = data.loc[data['Order'] % 5 == 4]  #Test set is value % 5 == 3\n",
    "train = data.loc[(data['Order'] % 5 != 3) & (data['Order']% 5 != 4)] # Rest of the data\n",
    "\n",
    "print(validation.shape)\n",
    "print(test.shape)\n",
    "print(train.shape)\n",
    "#All of the above add up to 2930\n"
   ]
  },
  {
   "cell_type": "markdown",
   "metadata": {},
   "source": [
    "# 4. Predict the sale price based on the \"Gr Liv Area\" feature"
   ]
  },
  {
   "cell_type": "code",
   "execution_count": 71,
   "metadata": {},
   "outputs": [
    {
     "name": "stdout",
     "output_type": "stream",
     "text": [
      "y = 119.998298x + -0.000000\n"
     ]
    },
    {
     "data": {
      "image/png": "[encoded data removed]",
      "text/plain": [
       "<Figure size 504x360 with 1 Axes>"
      ]
     },
     "metadata": {},
     "output_type": "display_data"
    }
   ],
   "source": [
    "#Question: How do we get w0\n",
    "\n",
    "train_Gr = np.asarray(train['Gr.Liv.Area'])\n",
    "train_saleprice = np.asarray(train['SalePrice'])\n",
    "\n",
    "w1 = 1/(np.dot(np.transpose(train_Gr), train_Gr))\n",
    "w2 = np.dot(w1,np.transpose(train_Gr))\n",
    "w = np.dot(w2,np.transpose(train_saleprice)) \n",
    "\n",
    "y_hat = w*train_Gr\n",
    "\n",
    "plt.figure(figsize = (7,5))\n",
    "plt.scatter(train['Gr.Liv.Area'], train['SalePrice'], facecolors='none', edgecolors='r', label='Training Data')\n",
    "plt.plot(train_Gr, y_hat, color='blue', linewidth=3, label = 'Regression Line')\n",
    "plt.legend()\n",
    "plt.title('Scatter plot of Gr.Liv.Area vs. Sale Price from training data')\n",
    "plt.xlabel('Gr.Liv.Area')\n",
    "plt.ylabel('Sale Price')\n",
    "\n",
    "\n",
    "x = [train_Gr[0], train_Gr[1756]] \n",
    "y = [y_hat[0], y_hat[1756]] \n",
    "\n",
    "coefficients = np.polyfit(x, y, 1)\n",
    "print('y = %fx + %f'% (coefficients[0], coefficients[1]))\n"
   ]
  },
  {
   "cell_type": "code",
   "execution_count": 136,
   "metadata": {},
   "outputs": [
    {
     "name": "stdout",
     "output_type": "stream",
     "text": [
      "Validation RMSE:  56296.77610256447\n",
      "Test RMSE:  55835.71252086333\n"
     ]
    }
   ],
   "source": [
    "#Applying to validation set\n",
    "from sklearn.metrics import mean_squared_error\n",
    "from math import sqrt\n",
    "\n",
    "val_Gr = np.asarray(validation['Gr.Liv.Area'])\n",
    "val_saleprice = np.asarray(validation['SalePrice'])\n",
    "test_Gr = np.asarray(test['Gr.Liv.Area'])\n",
    "test_saleprice = np.asarray(test['SalePrice'])\n",
    "\n",
    "\n",
    "y_hat_val = w*val_Gr\n",
    "rms_v_sing = sqrt(mean_squared_error(val_saleprice, y_hat_val))\n",
    "\n",
    "y_hat_test = w*test_Gr\n",
    "rms_test_sing = sqrt(mean_squared_error(test_saleprice, y_hat_test))\n",
    "\n",
    "print('Validation RMSE: ', rms_v_sing)\n",
    "print('Test RMSE: ', rms_test_sing)"
   ]
  },
  {
   "cell_type": "markdown",
   "metadata": {},
   "source": [
    "# 5. One Hot Encoding"
   ]
  },
  {
   "cell_type": "code",
   "execution_count": 73,
   "metadata": {},
   "outputs": [],
   "source": [
    "cat_feats = [           'MS.SubClass', 'MS.Zoning', 'Street',\n",
    "                        'Alley', 'Lot.Shape', 'Land.Contour',\n",
    "                        'Utilities', 'Lot.Config', 'Land.Slope',\n",
    "                        'Neighborhood', 'Condition.1', 'Condition.2',\n",
    "                        'Bldg.Type', 'House.Style', 'Overall.Qual',\n",
    "                        'Overall.Cond', 'Roof.Style', 'Roof.Matl',\n",
    "                        'Exterior.1st', 'Exterior.2nd', 'Mas.Vnr.Type',\n",
    "                        'Exter.Qual', 'Exter.Cond', 'Foundation',\n",
    "                        'Bsmt.Qual', 'Bsmt.Cond', 'Bsmt.Exposure',\n",
    "                        'BsmtFin.Type.1','BsmtFin.Type.2','Heating', 'Heating.QC',\n",
    "                        'Central.Air', 'Electrical', 'Bsmt.Full.Bath',\n",
    "                        'Bsmt.Half.Bath', 'Full.Bath', 'Half.Bath',\n",
    "                        'Bedroom.AbvGr', 'Kitchen.AbvGr', 'Kitchen.Qual',\n",
    "                        'TotRms.AbvGrd', 'Functional', 'Fireplaces',\n",
    "                        'Fireplace.Qu', 'Garage.Type', 'Garage.Cars',\n",
    "                        'Garage.Qual', 'Garage.Cond', 'Paved.Drive',\n",
    "                        'Pool.QC', 'Fence', 'Sale.Type', 'Sale.Condition', 'Misc.Feature', \n",
    "                        'Garage.Finish','Mo.Sold', 'Yr.Sold', 'Year.Remod.Add']\n",
    "\n",
    "data_enc = pd.get_dummies(data, prefix_sep=\"_\", columns=cat_feats)\n"
   ]
  },
  {
   "cell_type": "markdown",
   "metadata": {},
   "source": [
    "## Split encoded data into train, test and validate"
   ]
  },
  {
   "cell_type": "code",
   "execution_count": 74,
   "metadata": {},
   "outputs": [
    {
     "name": "stdout",
     "output_type": "stream",
     "text": [
      "Index(['Order', 'PID', 'Lot.Frontage', 'Lot.Area', 'Year.Built',\n",
      "       'Mas.Vnr.Area', 'BsmtFin.SF.1', 'BsmtFin.SF.2', 'Bsmt.Unf.SF',\n",
      "       'Total.Bsmt.SF',\n",
      "       ...\n",
      "       'Year.Remod.Add_2001', 'Year.Remod.Add_2002', 'Year.Remod.Add_2003',\n",
      "       'Year.Remod.Add_2004', 'Year.Remod.Add_2005', 'Year.Remod.Add_2006',\n",
      "       'Year.Remod.Add_2007', 'Year.Remod.Add_2008', 'Year.Remod.Add_2009',\n",
      "       'Year.Remod.Add_2010'],\n",
      "      dtype='object', length=476)\n",
      "(586, 476)\n",
      "(586, 476)\n",
      "(1758, 476)\n"
     ]
    }
   ],
   "source": [
    "print(data_enc.columns)\n",
    "validationE = data_enc.loc[data_enc['Order'] % 5 == 3] #Validation set is value % 5 == 3\n",
    "testE = data_enc.loc[data_enc['Order'] % 5 == 4]  #Test set is value % 5 == 3\n",
    "trainE = data_enc.loc[(data_enc['Order'] % 5 != 3) & (data_enc['Order']% 5 != 4)] # Rest of the data\n",
    "\n",
    "print(validationE.shape)\n",
    "print(testE.shape)\n",
    "print(trainE.shape)"
   ]
  },
  {
   "cell_type": "markdown",
   "metadata": {},
   "source": [
    "## Train the Linear Regression model on the newly encoded dataset  "
   ]
  },
  {
   "cell_type": "code",
   "execution_count": 75,
   "metadata": {},
   "outputs": [],
   "source": [
    "from sklearn.metrics import mean_squared_error\n",
    "from sklearn.linear_model import LinearRegression\n",
    "from math import sqrt\n",
    "\n",
    "#Assuming that we are still estimating the sale price. \n",
    "\n",
    "y = np.asarray(trainE['SalePrice'])\n",
    "X = np.asarray(trainE.drop('SalePrice', axis=1))\n",
    "\n",
    "reg = LinearRegression(fit_intercept = True).fit(X, y)"
   ]
  },
  {
   "cell_type": "markdown",
   "metadata": {},
   "source": [
    "## RMSE on Validation Set"
   ]
  },
  {
   "cell_type": "code",
   "execution_count": 135,
   "metadata": {},
   "outputs": [
    {
     "name": "stdout",
     "output_type": "stream",
     "text": [
      "Validation Rmse:  27240.684937989266\n",
      "Test Rmse:  36398.518508693815\n"
     ]
    }
   ],
   "source": [
    "from sklearn.metrics import mean_squared_error\n",
    "from math import sqrt\n",
    "\n",
    "val_y = np.asarray(validationE['SalePrice'])\n",
    "val_X = np.asarray(validationE.drop('SalePrice', axis=1))\n",
    "\n",
    "test_y = np.asarray(testE['SalePrice'])\n",
    "test_X = np.asarray(testE.drop('SalePrice', axis=1))\n",
    "\n",
    "y_hat_val = reg.predict(val_X)\n",
    "rms_v_lin = sqrt(mean_squared_error(val_y, y_hat_val))\n",
    "\n",
    "y_hat_test = reg.predict(test_X)\n",
    "rms_test_lin = sqrt(mean_squared_error(test_y, y_hat_test))\n",
    "\n",
    "print('Validation Rmse: ', rms_v_lin)\n",
    "print('Test Rmse: ', rms_test_lin)"
   ]
  },
  {
   "cell_type": "markdown",
   "metadata": {},
   "source": [
    "# 6. Regularization"
   ]
  },
  {
   "cell_type": "markdown",
   "metadata": {},
   "source": [
    "## Normalize Training Data and train"
   ]
  },
  {
   "cell_type": "code",
   "execution_count": 77,
   "metadata": {},
   "outputs": [],
   "source": [
    "from sklearn import linear_model\n",
    "from sklearn.preprocessing import StandardScaler\n",
    "\n",
    "\n",
    "num_feats = [           'Lot.Area', 'Order', 'PID', 'Lot.Frontage', \n",
    "                        'Year.Built','Mas.Vnr.Area', 'BsmtFin.SF.1', \n",
    "                        'BsmtFin.SF.2','Bsmt.Unf.SF' , 'Total.Bsmt.SF', \n",
    "                        'X1st.Flr.SF','X2nd.Flr.SF', 'Low.Qual.Fin.SF', \n",
    "                        'Gr.Liv.Area','Garage.Area', 'Wood.Deck.SF', \n",
    "                        'Open.Porch.SF','Enclosed.Porch', 'X3Ssn.Porch', \n",
    "                        'Screen.Porch','Pool.Area','Garage.Yr.Blt', \n",
    "                        'Misc.Val']\n",
    "\n",
    "\n",
    "\n",
    "test_e = data_enc.loc[data_enc['Order'] % 5 == 4]  #Test set is value % 5 == 3\n",
    "train_e = data_enc.loc[data_enc['Order']% 5 != 4] # Rest of the data\n",
    "train_e2 = data_enc.loc[(data_enc['Order'] % 5 != 3) & (data_enc['Order']% 5 != 4)]\n",
    "\n",
    "\n",
    "norm_train_e = train_e.drop('SalePrice', axis=1)\n",
    "norm_train_e[num_feats] = norm_train_e[num_feats] = norm_train_e[num_feats].apply(lambda x: (x - x.min()) / (x.max() - x.min()))#StandardScaler().fit_transform(norm_train_e[num_feats])\n",
    "\n",
    "norm_train_e2 = train_e2.drop('SalePrice', axis=1)\n",
    "norm_train_e2[num_feats] = norm_train_e2[num_feats] = norm_train_e2[num_feats].apply(lambda x: (x - x.min()) / (x.max() - x.min()))#StandardScaler().fit_transform(norm_train_e2[num_feats])\n",
    "\n",
    "\n",
    "norm_test_e = test_e.drop('SalePrice', axis=1)\n",
    "norm_test_e[num_feats] = norm_test_e[num_feats].apply(lambda x: (x - x.min()) / (x.max() - x.min()))#StandardScaler().fit_transform(norm_test_e[num_feats])\n",
    "\n",
    "y_cv = train_e['SalePrice']\n",
    "y_cv2 = train_e2['SalePrice']\n",
    "\n",
    "\n"
   ]
  },
  {
   "cell_type": "markdown",
   "metadata": {},
   "source": [
    "## Cross-Validate"
   ]
  },
  {
   "cell_type": "code",
   "execution_count": 123,
   "metadata": {},
   "outputs": [
    {
     "name": "stderr",
     "output_type": "stream",
     "text": [
      "/Library/Frameworks/Python.framework/Versions/3.6/lib/python3.6/site-packages/sklearn/metrics/scorer.py:100: DeprecationWarning: Scoring method mean_squared_error was renamed to neg_mean_squared_error in version 0.18 and will be removed in 0.20.\n",
      "  sample_weight=sample_weight)\n",
      "/Library/Frameworks/Python.framework/Versions/3.6/lib/python3.6/site-packages/sklearn/metrics/scorer.py:100: DeprecationWarning: Scoring method mean_squared_error was renamed to neg_mean_squared_error in version 0.18 and will be removed in 0.20.\n",
      "  sample_weight=sample_weight)\n",
      "/Library/Frameworks/Python.framework/Versions/3.6/lib/python3.6/site-packages/sklearn/metrics/scorer.py:100: DeprecationWarning: Scoring method mean_squared_error was renamed to neg_mean_squared_error in version 0.18 and will be removed in 0.20.\n",
      "  sample_weight=sample_weight)\n",
      "/Library/Frameworks/Python.framework/Versions/3.6/lib/python3.6/site-packages/sklearn/metrics/scorer.py:100: DeprecationWarning: Scoring method mean_squared_error was renamed to neg_mean_squared_error in version 0.18 and will be removed in 0.20.\n",
      "  sample_weight=sample_weight)\n",
      "/Library/Frameworks/Python.framework/Versions/3.6/lib/python3.6/site-packages/sklearn/metrics/scorer.py:100: DeprecationWarning: Scoring method mean_squared_error was renamed to neg_mean_squared_error in version 0.18 and will be removed in 0.20.\n",
      "  sample_weight=sample_weight)\n"
     ]
    },
    {
     "name": "stdout",
     "output_type": "stream",
     "text": [
      "50\n"
     ]
    },
    {
     "name": "stderr",
     "output_type": "stream",
     "text": [
      "/Library/Frameworks/Python.framework/Versions/3.6/lib/python3.6/site-packages/sklearn/metrics/scorer.py:100: DeprecationWarning: Scoring method mean_squared_error was renamed to neg_mean_squared_error in version 0.18 and will be removed in 0.20.\n",
      "  sample_weight=sample_weight)\n",
      "/Library/Frameworks/Python.framework/Versions/3.6/lib/python3.6/site-packages/sklearn/metrics/scorer.py:100: DeprecationWarning: Scoring method mean_squared_error was renamed to neg_mean_squared_error in version 0.18 and will be removed in 0.20.\n",
      "  sample_weight=sample_weight)\n",
      "/Library/Frameworks/Python.framework/Versions/3.6/lib/python3.6/site-packages/sklearn/metrics/scorer.py:100: DeprecationWarning: Scoring method mean_squared_error was renamed to neg_mean_squared_error in version 0.18 and will be removed in 0.20.\n",
      "  sample_weight=sample_weight)\n",
      "/Library/Frameworks/Python.framework/Versions/3.6/lib/python3.6/site-packages/sklearn/metrics/scorer.py:100: DeprecationWarning: Scoring method mean_squared_error was renamed to neg_mean_squared_error in version 0.18 and will be removed in 0.20.\n",
      "  sample_weight=sample_weight)\n",
      "/Library/Frameworks/Python.framework/Versions/3.6/lib/python3.6/site-packages/sklearn/metrics/scorer.py:100: DeprecationWarning: Scoring method mean_squared_error was renamed to neg_mean_squared_error in version 0.18 and will be removed in 0.20.\n",
      "  sample_weight=sample_weight)\n"
     ]
    },
    {
     "name": "stdout",
     "output_type": "stream",
     "text": [
      "100\n"
     ]
    },
    {
     "name": "stderr",
     "output_type": "stream",
     "text": [
      "/Library/Frameworks/Python.framework/Versions/3.6/lib/python3.6/site-packages/sklearn/metrics/scorer.py:100: DeprecationWarning: Scoring method mean_squared_error was renamed to neg_mean_squared_error in version 0.18 and will be removed in 0.20.\n",
      "  sample_weight=sample_weight)\n",
      "/Library/Frameworks/Python.framework/Versions/3.6/lib/python3.6/site-packages/sklearn/metrics/scorer.py:100: DeprecationWarning: Scoring method mean_squared_error was renamed to neg_mean_squared_error in version 0.18 and will be removed in 0.20.\n",
      "  sample_weight=sample_weight)\n",
      "/Library/Frameworks/Python.framework/Versions/3.6/lib/python3.6/site-packages/sklearn/metrics/scorer.py:100: DeprecationWarning: Scoring method mean_squared_error was renamed to neg_mean_squared_error in version 0.18 and will be removed in 0.20.\n",
      "  sample_weight=sample_weight)\n",
      "/Library/Frameworks/Python.framework/Versions/3.6/lib/python3.6/site-packages/sklearn/metrics/scorer.py:100: DeprecationWarning: Scoring method mean_squared_error was renamed to neg_mean_squared_error in version 0.18 and will be removed in 0.20.\n",
      "  sample_weight=sample_weight)\n",
      "/Library/Frameworks/Python.framework/Versions/3.6/lib/python3.6/site-packages/sklearn/metrics/scorer.py:100: DeprecationWarning: Scoring method mean_squared_error was renamed to neg_mean_squared_error in version 0.18 and will be removed in 0.20.\n",
      "  sample_weight=sample_weight)\n"
     ]
    },
    {
     "name": "stdout",
     "output_type": "stream",
     "text": [
      "150\n"
     ]
    },
    {
     "name": "stderr",
     "output_type": "stream",
     "text": [
      "/Library/Frameworks/Python.framework/Versions/3.6/lib/python3.6/site-packages/sklearn/metrics/scorer.py:100: DeprecationWarning: Scoring method mean_squared_error was renamed to neg_mean_squared_error in version 0.18 and will be removed in 0.20.\n",
      "  sample_weight=sample_weight)\n",
      "/Library/Frameworks/Python.framework/Versions/3.6/lib/python3.6/site-packages/sklearn/metrics/scorer.py:100: DeprecationWarning: Scoring method mean_squared_error was renamed to neg_mean_squared_error in version 0.18 and will be removed in 0.20.\n",
      "  sample_weight=sample_weight)\n",
      "/Library/Frameworks/Python.framework/Versions/3.6/lib/python3.6/site-packages/sklearn/metrics/scorer.py:100: DeprecationWarning: Scoring method mean_squared_error was renamed to neg_mean_squared_error in version 0.18 and will be removed in 0.20.\n",
      "  sample_weight=sample_weight)\n",
      "/Library/Frameworks/Python.framework/Versions/3.6/lib/python3.6/site-packages/sklearn/metrics/scorer.py:100: DeprecationWarning: Scoring method mean_squared_error was renamed to neg_mean_squared_error in version 0.18 and will be removed in 0.20.\n",
      "  sample_weight=sample_weight)\n",
      "/Library/Frameworks/Python.framework/Versions/3.6/lib/python3.6/site-packages/sklearn/metrics/scorer.py:100: DeprecationWarning: Scoring method mean_squared_error was renamed to neg_mean_squared_error in version 0.18 and will be removed in 0.20.\n",
      "  sample_weight=sample_weight)\n"
     ]
    },
    {
     "name": "stdout",
     "output_type": "stream",
     "text": [
      "200\n"
     ]
    },
    {
     "name": "stderr",
     "output_type": "stream",
     "text": [
      "/Library/Frameworks/Python.framework/Versions/3.6/lib/python3.6/site-packages/sklearn/metrics/scorer.py:100: DeprecationWarning: Scoring method mean_squared_error was renamed to neg_mean_squared_error in version 0.18 and will be removed in 0.20.\n",
      "  sample_weight=sample_weight)\n",
      "/Library/Frameworks/Python.framework/Versions/3.6/lib/python3.6/site-packages/sklearn/metrics/scorer.py:100: DeprecationWarning: Scoring method mean_squared_error was renamed to neg_mean_squared_error in version 0.18 and will be removed in 0.20.\n",
      "  sample_weight=sample_weight)\n",
      "/Library/Frameworks/Python.framework/Versions/3.6/lib/python3.6/site-packages/sklearn/metrics/scorer.py:100: DeprecationWarning: Scoring method mean_squared_error was renamed to neg_mean_squared_error in version 0.18 and will be removed in 0.20.\n",
      "  sample_weight=sample_weight)\n",
      "/Library/Frameworks/Python.framework/Versions/3.6/lib/python3.6/site-packages/sklearn/metrics/scorer.py:100: DeprecationWarning: Scoring method mean_squared_error was renamed to neg_mean_squared_error in version 0.18 and will be removed in 0.20.\n",
      "  sample_weight=sample_weight)\n",
      "/Library/Frameworks/Python.framework/Versions/3.6/lib/python3.6/site-packages/sklearn/metrics/scorer.py:100: DeprecationWarning: Scoring method mean_squared_error was renamed to neg_mean_squared_error in version 0.18 and will be removed in 0.20.\n",
      "  sample_weight=sample_weight)\n"
     ]
    },
    {
     "name": "stdout",
     "output_type": "stream",
     "text": [
      "250\n"
     ]
    },
    {
     "name": "stderr",
     "output_type": "stream",
     "text": [
      "/Library/Frameworks/Python.framework/Versions/3.6/lib/python3.6/site-packages/sklearn/metrics/scorer.py:100: DeprecationWarning: Scoring method mean_squared_error was renamed to neg_mean_squared_error in version 0.18 and will be removed in 0.20.\n",
      "  sample_weight=sample_weight)\n",
      "/Library/Frameworks/Python.framework/Versions/3.6/lib/python3.6/site-packages/sklearn/metrics/scorer.py:100: DeprecationWarning: Scoring method mean_squared_error was renamed to neg_mean_squared_error in version 0.18 and will be removed in 0.20.\n",
      "  sample_weight=sample_weight)\n",
      "/Library/Frameworks/Python.framework/Versions/3.6/lib/python3.6/site-packages/sklearn/metrics/scorer.py:100: DeprecationWarning: Scoring method mean_squared_error was renamed to neg_mean_squared_error in version 0.18 and will be removed in 0.20.\n",
      "  sample_weight=sample_weight)\n",
      "/Library/Frameworks/Python.framework/Versions/3.6/lib/python3.6/site-packages/sklearn/metrics/scorer.py:100: DeprecationWarning: Scoring method mean_squared_error was renamed to neg_mean_squared_error in version 0.18 and will be removed in 0.20.\n",
      "  sample_weight=sample_weight)\n",
      "/Library/Frameworks/Python.framework/Versions/3.6/lib/python3.6/site-packages/sklearn/metrics/scorer.py:100: DeprecationWarning: Scoring method mean_squared_error was renamed to neg_mean_squared_error in version 0.18 and will be removed in 0.20.\n",
      "  sample_weight=sample_weight)\n"
     ]
    },
    {
     "name": "stdout",
     "output_type": "stream",
     "text": [
      "300\n"
     ]
    },
    {
     "name": "stderr",
     "output_type": "stream",
     "text": [
      "/Library/Frameworks/Python.framework/Versions/3.6/lib/python3.6/site-packages/sklearn/metrics/scorer.py:100: DeprecationWarning: Scoring method mean_squared_error was renamed to neg_mean_squared_error in version 0.18 and will be removed in 0.20.\n",
      "  sample_weight=sample_weight)\n",
      "/Library/Frameworks/Python.framework/Versions/3.6/lib/python3.6/site-packages/sklearn/metrics/scorer.py:100: DeprecationWarning: Scoring method mean_squared_error was renamed to neg_mean_squared_error in version 0.18 and will be removed in 0.20.\n",
      "  sample_weight=sample_weight)\n",
      "/Library/Frameworks/Python.framework/Versions/3.6/lib/python3.6/site-packages/sklearn/metrics/scorer.py:100: DeprecationWarning: Scoring method mean_squared_error was renamed to neg_mean_squared_error in version 0.18 and will be removed in 0.20.\n",
      "  sample_weight=sample_weight)\n",
      "/Library/Frameworks/Python.framework/Versions/3.6/lib/python3.6/site-packages/sklearn/metrics/scorer.py:100: DeprecationWarning: Scoring method mean_squared_error was renamed to neg_mean_squared_error in version 0.18 and will be removed in 0.20.\n",
      "  sample_weight=sample_weight)\n",
      "/Library/Frameworks/Python.framework/Versions/3.6/lib/python3.6/site-packages/sklearn/metrics/scorer.py:100: DeprecationWarning: Scoring method mean_squared_error was renamed to neg_mean_squared_error in version 0.18 and will be removed in 0.20.\n",
      "  sample_weight=sample_weight)\n"
     ]
    },
    {
     "name": "stdout",
     "output_type": "stream",
     "text": [
      "350\n"
     ]
    },
    {
     "name": "stderr",
     "output_type": "stream",
     "text": [
      "/Library/Frameworks/Python.framework/Versions/3.6/lib/python3.6/site-packages/sklearn/metrics/scorer.py:100: DeprecationWarning: Scoring method mean_squared_error was renamed to neg_mean_squared_error in version 0.18 and will be removed in 0.20.\n",
      "  sample_weight=sample_weight)\n",
      "/Library/Frameworks/Python.framework/Versions/3.6/lib/python3.6/site-packages/sklearn/metrics/scorer.py:100: DeprecationWarning: Scoring method mean_squared_error was renamed to neg_mean_squared_error in version 0.18 and will be removed in 0.20.\n",
      "  sample_weight=sample_weight)\n",
      "/Library/Frameworks/Python.framework/Versions/3.6/lib/python3.6/site-packages/sklearn/metrics/scorer.py:100: DeprecationWarning: Scoring method mean_squared_error was renamed to neg_mean_squared_error in version 0.18 and will be removed in 0.20.\n",
      "  sample_weight=sample_weight)\n",
      "/Library/Frameworks/Python.framework/Versions/3.6/lib/python3.6/site-packages/sklearn/metrics/scorer.py:100: DeprecationWarning: Scoring method mean_squared_error was renamed to neg_mean_squared_error in version 0.18 and will be removed in 0.20.\n",
      "  sample_weight=sample_weight)\n",
      "/Library/Frameworks/Python.framework/Versions/3.6/lib/python3.6/site-packages/sklearn/metrics/scorer.py:100: DeprecationWarning: Scoring method mean_squared_error was renamed to neg_mean_squared_error in version 0.18 and will be removed in 0.20.\n",
      "  sample_weight=sample_weight)\n"
     ]
    },
    {
     "name": "stdout",
     "output_type": "stream",
     "text": [
      "400\n"
     ]
    },
    {
     "name": "stderr",
     "output_type": "stream",
     "text": [
      "/Library/Frameworks/Python.framework/Versions/3.6/lib/python3.6/site-packages/sklearn/metrics/scorer.py:100: DeprecationWarning: Scoring method mean_squared_error was renamed to neg_mean_squared_error in version 0.18 and will be removed in 0.20.\n",
      "  sample_weight=sample_weight)\n",
      "/Library/Frameworks/Python.framework/Versions/3.6/lib/python3.6/site-packages/sklearn/metrics/scorer.py:100: DeprecationWarning: Scoring method mean_squared_error was renamed to neg_mean_squared_error in version 0.18 and will be removed in 0.20.\n",
      "  sample_weight=sample_weight)\n",
      "/Library/Frameworks/Python.framework/Versions/3.6/lib/python3.6/site-packages/sklearn/metrics/scorer.py:100: DeprecationWarning: Scoring method mean_squared_error was renamed to neg_mean_squared_error in version 0.18 and will be removed in 0.20.\n",
      "  sample_weight=sample_weight)\n",
      "/Library/Frameworks/Python.framework/Versions/3.6/lib/python3.6/site-packages/sklearn/metrics/scorer.py:100: DeprecationWarning: Scoring method mean_squared_error was renamed to neg_mean_squared_error in version 0.18 and will be removed in 0.20.\n",
      "  sample_weight=sample_weight)\n",
      "/Library/Frameworks/Python.framework/Versions/3.6/lib/python3.6/site-packages/sklearn/metrics/scorer.py:100: DeprecationWarning: Scoring method mean_squared_error was renamed to neg_mean_squared_error in version 0.18 and will be removed in 0.20.\n",
      "  sample_weight=sample_weight)\n"
     ]
    },
    {
     "name": "stdout",
     "output_type": "stream",
     "text": [
      "450\n"
     ]
    },
    {
     "name": "stderr",
     "output_type": "stream",
     "text": [
      "/Library/Frameworks/Python.framework/Versions/3.6/lib/python3.6/site-packages/sklearn/metrics/scorer.py:100: DeprecationWarning: Scoring method mean_squared_error was renamed to neg_mean_squared_error in version 0.18 and will be removed in 0.20.\n",
      "  sample_weight=sample_weight)\n",
      "/Library/Frameworks/Python.framework/Versions/3.6/lib/python3.6/site-packages/sklearn/metrics/scorer.py:100: DeprecationWarning: Scoring method mean_squared_error was renamed to neg_mean_squared_error in version 0.18 and will be removed in 0.20.\n",
      "  sample_weight=sample_weight)\n",
      "/Library/Frameworks/Python.framework/Versions/3.6/lib/python3.6/site-packages/sklearn/metrics/scorer.py:100: DeprecationWarning: Scoring method mean_squared_error was renamed to neg_mean_squared_error in version 0.18 and will be removed in 0.20.\n",
      "  sample_weight=sample_weight)\n",
      "/Library/Frameworks/Python.framework/Versions/3.6/lib/python3.6/site-packages/sklearn/metrics/scorer.py:100: DeprecationWarning: Scoring method mean_squared_error was renamed to neg_mean_squared_error in version 0.18 and will be removed in 0.20.\n",
      "  sample_weight=sample_weight)\n",
      "/Library/Frameworks/Python.framework/Versions/3.6/lib/python3.6/site-packages/sklearn/metrics/scorer.py:100: DeprecationWarning: Scoring method mean_squared_error was renamed to neg_mean_squared_error in version 0.18 and will be removed in 0.20.\n",
      "  sample_weight=sample_weight)\n"
     ]
    },
    {
     "name": "stdout",
     "output_type": "stream",
     "text": [
      "500\n"
     ]
    }
   ],
   "source": [
    "from sklearn.model_selection import KFold\n",
    "from sklearn import linear_model\n",
    "from sklearn.cross_validation import cross_val_score, cross_val_predict\n",
    "from sklearn.metrics import mean_squared_error as mse\n",
    "from math import sqrt\n",
    "\n",
    "alphas = []\n",
    "training_rmse = []\n",
    "valid_rmse = []\n",
    "\n",
    "clf = linear_model.Lasso()\n",
    "\n",
    "#Cross validate for values of alpha\n",
    "for alpha in range (50, 550, 50):\n",
    "    \n",
    "    clf.set_params(alpha=alpha)\n",
    "    scores = cross_val_score(clf, norm_train_e, y_cv,scoring ='mean_squared_error', cv = 5)\n",
    "    scores = np.sqrt(np.abs(scores))\n",
    "    trmse = scores.mean()\n",
    "    predictions = cross_val_predict(clf, norm_train_e, y_cv , cv = 5)\n",
    "    vrmse = sqrt(abs(mse(y_cv, predictions)))\n",
    "    \n",
    "    valid_rmse.append(vrmse)\n",
    "    training_rmse.append(trmse)\n",
    "    alphas.append(alpha)\n",
    "    \n",
    "    print(alpha)"
   ]
  },
  {
   "cell_type": "code",
   "execution_count": 124,
   "metadata": {},
   "outputs": [
    {
     "name": "stdout",
     "output_type": "stream",
     "text": [
      "1\n",
      "1\n",
      "100\n",
      "27505.782634697403\n"
     ]
    },
    {
     "data": {
      "image/png": "[encoded data removed]",
      "text/plain": [
       "<Figure size 432x288 with 1 Axes>"
      ]
     },
     "metadata": {},
     "output_type": "display_data"
    }
   ],
   "source": [
    "from matplotlib import pyplot as plt\n",
    "\n",
    "plt.plot(alphas,training_rmse, label='Training Error')\n",
    "plt.plot(alphas,valid_rmse, label='Validation Error Error')\n",
    "plt.title('Training and Validation Error for each value of alpha, with cv = 5')\n",
    "plt.xlabel('Alpha')\n",
    "plt.ylabel('RMSE Error')\n",
    "plt.legend()\n",
    "\n",
    "print(np.argmin(valid_rmse))\n",
    "print(np.argmin(training_rmse))\n",
    "print(alphas[1])\n",
    "rms_v_reg = min(valid_rmse)\n",
    "print(valid_rmse[1])"
   ]
  },
  {
   "cell_type": "markdown",
   "metadata": {},
   "source": [
    "# 7. Compare test models"
   ]
  },
  {
   "cell_type": "code",
   "execution_count": 133,
   "metadata": {},
   "outputs": [
    {
     "name": "stdout",
     "output_type": "stream",
     "text": [
      "Test Error:  30609.116376110924\n"
     ]
    },
    {
     "data": {
      "image/png": "[encoded data removed]",
      "text/plain": [
       "<Figure size 432x288 with 1 Axes>"
      ]
     },
     "metadata": {},
     "output_type": "display_data"
    }
   ],
   "source": [
    "from sklearn.metrics import mean_squared_error as mse\n",
    "\n",
    "test_y = test_e['SalePrice']\n",
    "coeffs = []\n",
    "\n",
    "for alpha in alphas:\n",
    "\n",
    "    clf = linear_model.Lasso(alpha = alpha)\n",
    "    clf.fit(norm_train_e, y_cv)\n",
    "    coeffs.append(np.count_nonzero(clf.coef_))\n",
    "\n",
    "plt.plot(alphas,coeffs)\n",
    "plt.title('Alpha vs. Number of nonzero coefficients')\n",
    "plt.xlabel('Alpha')\n",
    "plt.ylabel('# Nonzero Coefficients')\n",
    "\n",
    "clf = linear_model.Lasso(alpha = 100)\n",
    "clf.fit(norm_train_e2, y_cv2)\n",
    "\n",
    "y_hat_test = clf.predict(norm_test_e)\n",
    "rms_test_reg = sqrt(mean_squared_error(test_y, y_hat_test))\n",
    "print('Test Error: ', rms_test_reg)"
   ]
  },
  {
   "cell_type": "code",
   "execution_count": 126,
   "metadata": {},
   "outputs": [
    {
     "data": {
      "text/plain": [
       "Text(0.5,1,'RMSE for Test Set')"
      ]
     },
     "execution_count": 126,
     "metadata": {},
     "output_type": "execute_result"
    },
    {
     "data": {
      "image/png": "[encoded data removed]",
      "text/plain": [
       "<Figure size 504x360 with 1 Axes>"
      ]
     },
     "metadata": {},
     "output_type": "display_data"
    },
    {
     "data": {
      "image/png": "[encoded data removed]",
      "text/plain": [
       "<Figure size 504x360 with 1 Axes>"
      ]
     },
     "metadata": {},
     "output_type": "display_data"
    }
   ],
   "source": [
    "import matplotlib.pyplot as plt\n",
    "\n",
    "\n",
    "Classifiers = ['Single Variable', 'Linear Regression', 'Lasso Regression']\n",
    "Acc_val = [rms_v_sing, rms_v_lin, rms_v_reg]\n",
    "Acc_test = [rms_test_sing, rms_test_lin, rms_test_reg]\n",
    "\n",
    "\n",
    "fig, ax = plt.subplots(figsize = (7,5))\n",
    "vnb, vlda, vqda = plt.bar(Classifiers, Acc_val)\n",
    "vnb.set_facecolor('r')\n",
    "vlda.set_facecolor('g')\n",
    "vqda.set_facecolor('b')\n",
    "ax.set_ylabel('RMSE')\n",
    "plt.title('RMSE for Validation Set')\n",
    "\n",
    "fig, ax = plt.subplots(figsize = (7,5))\n",
    "vnb, vlda, vqda = plt.bar(Classifiers, Acc_test)\n",
    "vnb.set_facecolor('r')\n",
    "vlda.set_facecolor('g')\n",
    "vqda.set_facecolor('b')\n",
    "ax.set_ylabel('RMSE')\n",
    "plt.title('RMSE for Test Set')"
   ]
  }
 ],
 "metadata": {
  "kernelspec": {
   "display_name": "Python 3",
   "language": "python",
   "name": "python3"
  },
  "language_info": {
   "codemirror_mode": {
    "name": "ipython",
    "version": 3
   },
   "file_extension": ".py",
   "mimetype": "text/x-python",
   "name": "python",
   "nbconvert_exporter": "python",
   "pygments_lexer": "ipython3",
   "version": "3.6.5"
  }
 },
 "nbformat": 4,
 "nbformat_minor": 2
}
