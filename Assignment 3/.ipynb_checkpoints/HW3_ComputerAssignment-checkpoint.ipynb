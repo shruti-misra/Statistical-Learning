{
 "cells": [
  {
   "cell_type": "markdown",
   "metadata": {},
   "source": [
    "# Homework 3: Part II: Computer assignment"
   ]
  },
  {
   "cell_type": "code",
   "execution_count": 2,
   "metadata": {},
   "outputs": [
    {
     "name": "stderr",
     "output_type": "stream",
     "text": [
      "/Library/Frameworks/Python.framework/Versions/3.6/lib/python3.6/site-packages/h5py/__init__.py:36: FutureWarning: Conversion of the second argument of issubdtype from `float` to `np.floating` is deprecated. In future, it will be treated as `np.float64 == np.dtype(float).type`.\n",
      "  from ._conv import register_converters as _register_converters\n"
     ]
    }
   ],
   "source": [
    "from __future__ import absolute_import, division, print_function\n",
    "import numpy as np\n",
    "import tensorflow as tf\n",
    "import matplotlib.pyplot as plt\n",
    "import pandas as pd\n",
    "from sklearn.feature_extraction.text import CountVectorizer, TfidfVectorizer\n",
    "from sklearn.feature_extraction import DictVectorizer\n",
    "from math import log"
   ]
  },
  {
   "cell_type": "markdown",
   "metadata": {},
   "source": [
    "## b. Vocabulary Selection"
   ]
  },
  {
   "cell_type": "code",
   "execution_count": 8,
   "metadata": {},
   "outputs": [],
   "source": [
    "train_data = np.genfromtxt('train.csv',delimiter ='\\t', dtype = \"str\")"
   ]
  },
  {
   "cell_type": "code",
   "execution_count": 9,
   "metadata": {},
   "outputs": [],
   "source": [
    "train_data_pd = pd.DataFrame(train_data, dtype = \"str\", columns=['newsgroup', 'document'])\n",
    "\n",
    "feats = {'alt.atheism': 0, 'comp.graphics': 1, 'comp.os.ms-windows.misc': 2, 'comp.sys.ibm.pc.hardware':3, \n",
    "'comp.sys.mac.hardware': 4,'comp.windows.x': 5, 'misc.forsale': 6, 'rec.autos': 7, 'rec.motorcycles': 8, \n",
    "'rec.sport.baseball': 9, 'rec.sport.hockey': 10, 'sci.crypt': 11, 'sci.electronics': 12, 'sci.med': 13, \n",
    "'sci.space': 14, 'soc.religion.christian': 15, 'talk.politics.guns': 16, 'talk.politics.mideast': 17, \n",
    "'talk.politics.misc': 18, 'talk.religion.misc': 19}"
   ]
  },
  {
   "cell_type": "code",
   "execution_count": 14,
   "metadata": {},
   "outputs": [],
   "source": [
    "Y = np.asarray(train_data_pd['newsgroup'])\n",
    "y = np.asarray([feats[d] for d in Y])"
   ]
  },
  {
   "cell_type": "code",
   "execution_count": 15,
   "metadata": {},
   "outputs": [],
   "source": [
    "vectorizer = CountVectorizer(binary = True)\n",
    "bag_of_words = vectorizer.fit_transform(train_data_pd['document'])"
   ]
  },
  {
   "cell_type": "code",
   "execution_count": 16,
   "metadata": {
    "scrolled": true
   },
   "outputs": [],
   "source": [
    "feature_names = vectorizer.get_feature_names()\n",
    "occ = np.asarray(bag_of_words.toarray())\n",
    "vec_vocab = vectorizer.vocabulary_"
   ]
  },
  {
   "cell_type": "markdown",
   "metadata": {},
   "source": [
    "## Compute mutual information"
   ]
  },
  {
   "cell_type": "code",
   "execution_count": 19,
   "metadata": {},
   "outputs": [],
   "source": [
    "X = train_data_pd['document']\n",
    "Y = np.asarray(train_data_pd['newsgroup'])\n",
    "x_value_list = feature_names\n",
    "y_value_list = np.unique(Y)\n",
    "x_total = len(occ)\n",
    "occ_x = occ.sum(axis = 0)"
   ]
  },
  {
   "cell_type": "code",
   "execution_count": 78,
   "metadata": {},
   "outputs": [
    {
     "name": "stdout",
     "output_type": "stream",
     "text": [
      "11293\n"
     ]
    }
   ],
   "source": [
    "Px = occ_x/x_total\n",
    "Py = np.asarray([ len(Y[Y == yval])/float(len(Y)) for yval in y_value_list ]) #Probability of each news group\n",
    "Py = dict(zip(y_value_list, Py))"
   ]
  },
  {
   "cell_type": "code",
   "execution_count": 70,
   "metadata": {},
   "outputs": [],
   "source": [
    "feats1 = ['alt.atheism', 'comp.graphics', 'comp.os.ms-windows.misc', 'comp.sys.ibm.pc.hardware', \n",
    "'comp.sys.mac.hardware','comp.windows.x', 'misc.forsale', 'rec.autos', 'rec.motorcycles', \n",
    "'rec.sport.baseball', 'rec.sport.hockey', 'sci.crypt', 'sci.electronics', 'sci.med', \n",
    "'sci.space', 'soc.religion.christian', 'talk.politics.guns', 'talk.politics.mideast', \n",
    "'talk.politics.misc', 'talk.religion.misc']\n",
    "\n",
    "p = []\n",
    "\n",
    "for f in feats1:\n",
    "    \n",
    "    indices = train_data_pd.index[train_data_pd[\"newsgroup\"] == f]\n",
    "    occ1 = occ[indices,:]\n",
    "    summ = occ1.sum(axis = 0)\n",
    "    p.append(summ)"
   ]
  },
  {
   "cell_type": "code",
   "execution_count": 75,
   "metadata": {},
   "outputs": [],
   "source": [
    "p = np.asarray(p)\n",
    "np.savetxt('probs.txt', p)"
   ]
  },
  {
   "cell_type": "code",
   "execution_count": 110,
   "metadata": {},
   "outputs": [],
   "source": [
    "I = []\n",
    "p = np.loadtxt('probs.txt')\n",
    "\n",
    "for i in range (0, len(p)):\n",
    "    \n",
    "    doc = p[i,:]\n",
    "    group = feats1[i]\n",
    "    index = feats[group]\n",
    "    a = Px*Py[group]\n",
    "    Pxy = (doc + 1)/ (len(occ) + len(p))\n",
    "    b = np.divide(Pxy, a)\n",
    "    c = np.log2(b)\n",
    "    I_ = np.multiply(Pxy, c)\n",
    "    I.append(I_)"
   ]
  },
  {
   "cell_type": "code",
   "execution_count": 114,
   "metadata": {},
   "outputs": [],
   "source": [
    "I = np.asarray(I)\n",
    "I_sum = I.sum(axis = 0)"
   ]
  },
  {
   "cell_type": "code",
   "execution_count": 115,
   "metadata": {},
   "outputs": [],
   "source": [
    "np.savetxt(\"mutual_info2.txt\", I_sum)"
   ]
  },
  {
   "cell_type": "code",
   "execution_count": 119,
   "metadata": {},
   "outputs": [],
   "source": [
    "I_sum = np.loadtxt('mutual_info2.txt')\n",
    "mi = -np.argsort(-I_sum)\n",
    "info = -np.sort(-I_sum)\n",
    "top_words_indices = -mi[0:5000]\n",
    "words = []\n",
    "lookup = dict((v,k) for k, v in vec_vocab.items())\n",
    "\n",
    "for index in top_words_indices:\n",
    "    \n",
    "    word_ = lookup[index]\n",
    "    words.append(word_)"
   ]
  },
  {
   "cell_type": "code",
   "execution_count": 120,
   "metadata": {},
   "outputs": [
    {
     "name": "stdout",
     "output_type": "stream",
     "text": [
      "['windows', 'god', 'clipper', 'sale', 'government', 'dod', 'team', 'car', 'bike', 'encryption']\n",
      "[0.12992949 0.12981355 0.10631735 0.10468233 0.10367535 0.10259696\n",
      " 0.09751004 0.09179743 0.09072649 0.08863332]\n"
     ]
    }
   ],
   "source": [
    "print(words[0:10])\n",
    "print(info[0:10])"
   ]
  },
  {
   "cell_type": "markdown",
   "metadata": {},
   "source": [
    "## c. Input Representation"
   ]
  },
  {
   "cell_type": "markdown",
   "metadata": {},
   "source": [
    "### Representation 1: Binary Indicator Vehicle"
   ]
  },
  {
   "cell_type": "code",
   "execution_count": 9,
   "metadata": {},
   "outputs": [
    {
     "name": "stdout",
     "output_type": "stream",
     "text": [
      "(11293, 5000)\n"
     ]
    }
   ],
   "source": [
    "vocab1 = occ[:, top_words_indices]\n",
    "print(vocab1.shape)\n",
    "np.savetxt(\"features1.txt\",vocab1 )"
   ]
  },
  {
   "cell_type": "markdown",
   "metadata": {},
   "source": [
    "### Representation 2: Raw Counts"
   ]
  },
  {
   "cell_type": "code",
   "execution_count": 10,
   "metadata": {},
   "outputs": [],
   "source": [
    "vectorizer = CountVectorizer(binary = True)\n",
    "bag_of_words = vectorizer.fit_transform(train_data_pd['document'])\n",
    "occ_raw = np.asarray(bag_of_words.toarray())\n",
    "vocab2 = occ_raw[:, top_words_indices]\n",
    "np.savetxt(\"features2.txt\",vocab2 )"
   ]
  },
  {
   "cell_type": "markdown",
   "metadata": {},
   "source": [
    "### Representation 3"
   ]
  },
  {
   "cell_type": "code",
   "execution_count": 11,
   "metadata": {},
   "outputs": [],
   "source": [
    "vocab3 = occ_raw[:, top_words_indices]\n",
    "vocab3 = np.log(vocab3 + 1)\n",
    "np.savetxt(\"features3.txt\",vocab3 )"
   ]
  },
  {
   "cell_type": "markdown",
   "metadata": {},
   "source": [
    "## d. Classifier "
   ]
  },
  {
   "cell_type": "code",
   "execution_count": 53,
   "metadata": {},
   "outputs": [],
   "source": [
    "X1 = np.loadtxt('features1.txt')\n",
    "X2 = np.loadtxt('features2.txt')\n",
    "X3 = np.loadtxt('features3.txt')"
   ]
  },
  {
   "cell_type": "code",
   "execution_count": 56,
   "metadata": {},
   "outputs": [],
   "source": [
    "from sklearn.svm import LinearSVC\n",
    "from sklearn.multiclass import OneVsRestClassifier\n",
    "from sklearn.model_selection import cross_val_score"
   ]
  },
  {
   "cell_type": "code",
   "execution_count": 87,
   "metadata": {},
   "outputs": [],
   "source": [
    "clf1 = OneVsRestClassifier(LinearSVC(random_state=0, loss = 'hinge'))\n",
    "clf2 = OneVsRestClassifier(LinearSVC(random_state=0, loss = 'hinge'))\n",
    "clf3 = OneVsRestClassifier(LinearSVC(random_state=0, loss = 'hinge'))\n",
    "\n",
    "scores1 = cross_val_score(clf1, X1, y, cv=5)\n",
    "scores2 = cross_val_score(clf2, X2, y, cv=5)\n",
    "scores3 = cross_val_score(clf3, X3, y, cv=5)"
   ]
  },
  {
   "cell_type": "code",
   "execution_count": 88,
   "metadata": {},
   "outputs": [
    {
     "name": "stdout",
     "output_type": "stream",
     "text": [
      "Accuracy1: 77.41% (+/- 0.05)\n",
      "Accuracy2: 77.41% (+/- 0.05)\n",
      "Accuracy3: 78.52% (+/- 0.04)\n"
     ]
    }
   ],
   "source": [
    "print(\"Accuracy1: %0.2f%% (+/- %0.2f)\" % (scores1.mean()*100, scores1.std() * 2))\n",
    "print(\"Accuracy2: %0.2f%% (+/- %0.2f)\" % (scores2.mean()*100, scores2.std() * 2))\n",
    "print(\"Accuracy3: %0.2f%% (+/- %0.2f)\" % (scores3.mean()*100, scores3.std() * 2))"
   ]
  },
  {
   "cell_type": "code",
   "execution_count": 89,
   "metadata": {},
   "outputs": [],
   "source": [
    "from sklearn.cross_validation import train_test_split\n",
    "\n",
    "X1_train, X1_val, y1_train, y1_val = train_test_split(X1, y, test_size=0.10, random_state=42)\n",
    "X2_train, X2_val, y2_train, y2_val = train_test_split(X2, y, test_size=0.10, random_state=42)"
   ]
  },
  {
   "cell_type": "code",
   "execution_count": 90,
   "metadata": {},
   "outputs": [],
   "source": [
    "X3_train, X3_val, y3_train, y3_val = train_test_split(X3, y, test_size=0.10, random_state=42)"
   ]
  },
  {
   "cell_type": "code",
   "execution_count": 99,
   "metadata": {},
   "outputs": [],
   "source": [
    "clf1_ = OneVsRestClassifier(LinearSVC(random_state=0, loss = 'hinge'))\n",
    "clf2_ = OneVsRestClassifier(LinearSVC(random_state=0, loss = 'hinge'))"
   ]
  },
  {
   "cell_type": "code",
   "execution_count": 100,
   "metadata": {},
   "outputs": [],
   "source": [
    "clf3_ = OneVsRestClassifier(LinearSVC(random_state=0, loss = 'hinge'))"
   ]
  },
  {
   "cell_type": "code",
   "execution_count": 101,
   "metadata": {},
   "outputs": [
    {
     "data": {
      "text/plain": [
       "OneVsRestClassifier(estimator=LinearSVC(C=1.0, class_weight=None, dual=True, fit_intercept=True,\n",
       "     intercept_scaling=1, loss='hinge', max_iter=1000, multi_class='ovr',\n",
       "     penalty='l2', random_state=0, tol=0.0001, verbose=0),\n",
       "          n_jobs=1)"
      ]
     },
     "execution_count": 101,
     "metadata": {},
     "output_type": "execute_result"
    }
   ],
   "source": [
    "clf1_.fit(X1_train, y1_train)\n",
    "clf2_.fit(X2_train, y2_train)"
   ]
  },
  {
   "cell_type": "code",
   "execution_count": 102,
   "metadata": {},
   "outputs": [
    {
     "data": {
      "text/plain": [
       "OneVsRestClassifier(estimator=LinearSVC(C=1.0, class_weight=None, dual=True, fit_intercept=True,\n",
       "     intercept_scaling=1, loss='hinge', max_iter=1000, multi_class='ovr',\n",
       "     penalty='l2', random_state=0, tol=0.0001, verbose=0),\n",
       "          n_jobs=1)"
      ]
     },
     "execution_count": 102,
     "metadata": {},
     "output_type": "execute_result"
    }
   ],
   "source": [
    "clf3_.fit(X3_train, y3_train)"
   ]
  },
  {
   "cell_type": "code",
   "execution_count": 103,
   "metadata": {},
   "outputs": [],
   "source": [
    "y1_pred = clf1_.predict(X1_val) \n",
    "y2_pred = clf2_.predict(X2_val)"
   ]
  },
  {
   "cell_type": "code",
   "execution_count": 104,
   "metadata": {},
   "outputs": [],
   "source": [
    " y3_pred = clf3_.predict(X3_val) "
   ]
  },
  {
   "cell_type": "code",
   "execution_count": 105,
   "metadata": {},
   "outputs": [
    {
     "name": "stdout",
     "output_type": "stream",
     "text": [
      "Accuracy1: 82.92%\n",
      "Accuracy2: 82.92%\n",
      "Accuracy3: 84.16%\n"
     ]
    }
   ],
   "source": [
    "from sklearn.metrics import accuracy_score\n",
    "\n",
    "acc1 = accuracy_score(y1_val, y1_pred)\n",
    "acc2 = accuracy_score(y2_val, y2_pred)\n",
    "acc3 = accuracy_score(y3_val, y3_pred)\n",
    "\n",
    "print(\"Accuracy1: %0.2f%%\" % (acc1*100))\n",
    "print(\"Accuracy2: %0.2f%%\" % (acc2*100))\n",
    "print(\"Accuracy3: %0.2f%%\" % (acc3*100))"
   ]
  },
  {
   "cell_type": "code",
   "execution_count": 107,
   "metadata": {},
   "outputs": [
    {
     "name": "stdout",
     "output_type": "stream",
     "text": [
      "Dummy Accuracy1: 5.31% (+/- 0.00)\n",
      "Dummy Accuracy2: 5.31% (+/- 0.00)\n",
      "Dummy Accuracy3: 5.31% (+/- 0.00)\n"
     ]
    }
   ],
   "source": [
    "from sklearn.dummy import DummyClassifier\n",
    "\n",
    "clf_dummy1 = DummyClassifier(strategy= 'most_frequent', random_state = 0)\n",
    "clf_dummy2 = DummyClassifier(strategy= 'most_frequent', random_state = 0)\n",
    "clf_dummy3 = DummyClassifier(strategy= 'most_frequent', random_state = 0)\n",
    "\n",
    "scoresd1 = cross_val_score(clf_dummy1, X1, y, cv=5)\n",
    "scoresd2 = cross_val_score(clf_dummy2, X2, y, cv=5)\n",
    "scoresd3 = cross_val_score(clf_dummy3, X3, y, cv=5)\n",
    "\n",
    "print(\"Dummy Accuracy1: %0.2f%% (+/- %0.2f)\" % (scoresd1.mean()*100, scoresd1.std() * 2))\n",
    "print(\"Dummy Accuracy2: %0.2f%% (+/- %0.2f)\" % (scoresd2.mean()*100, scoresd2.std() * 2))\n",
    "print(\"Dummy Accuracy3: %0.2f%% (+/- %0.2f)\" % (scoresd3.mean()*100, scoresd3.std() * 2))"
   ]
  },
  {
   "cell_type": "code",
   "execution_count": 109,
   "metadata": {},
   "outputs": [
    {
     "name": "stdout",
     "output_type": "stream",
     "text": [
      "Dummy Accuracy1: 3.81%\n",
      "Dummy Accuracy2: 3.81%\n",
      "Dummy Accuracy3: 3.81%\n"
     ]
    }
   ],
   "source": [
    "clf_dummy1.fit(X1_train, y1_train)\n",
    "clf_dummy2.fit(X2_train, y2_train)\n",
    "clf_dummy3.fit(X3_train, y3_train)\n",
    "\n",
    "y1d_pred = clf_dummy1.predict(X1_val) \n",
    "y2d_pred = clf_dummy2.predict(X2_val)\n",
    "y3d_pred = clf_dummy3.predict(X3_val) \n",
    "\n",
    "acc1d = accuracy_score(y1_val, y1d_pred)\n",
    "acc2d = accuracy_score(y2_val, y2d_pred)\n",
    "acc3d = accuracy_score(y3_val, y3d_pred)\n",
    "\n",
    "print(\"Dummy Accuracy1: %0.2f%%\" % (acc1d*100))\n",
    "print(\"Dummy Accuracy2: %0.2f%%\" % (acc2d*100))\n",
    "print(\"Dummy Accuracy3: %0.2f%%\" % (acc3d*100))\n"
   ]
  },
  {
   "cell_type": "markdown",
   "metadata": {},
   "source": [
    "## e. Evaluation "
   ]
  },
  {
   "cell_type": "code",
   "execution_count": 4,
   "metadata": {},
   "outputs": [],
   "source": [
    "test_data = np.genfromtxt('test.txt',delimiter ='\\t', dtype = \"str\")\n",
    "test_data_pd = pd.DataFrame(test_data, dtype = \"str\", columns=['newsgroup', 'document'])"
   ]
  },
  {
   "cell_type": "code",
   "execution_count": 32,
   "metadata": {},
   "outputs": [],
   "source": [
    "Y_test = np.asarray(test_data_pd['newsgroup'])\n",
    "y_test = np.asarray([feats[d] for d in Y_test])\n",
    "\n",
    "vectorizer1 = CountVectorizer()\n",
    "bag_of_words1 = vectorizer1.fit_transform(test_data_pd['document'])\n",
    "occ_test = np.asarray(bag_of_words1.toarray())\n",
    "vec_vocab1 = vectorizer1.vocabulary_\n",
    "\n",
    "top_word_indices1 = []\n",
    "no_exist = []\n",
    "exist = []\n",
    "\n",
    "for i in range(0, len(words)):\n",
    "    \n",
    "    if words[i] in vec_vocab1:\n",
    "        top_word_indices1.append(vec_vocab1[words[i]])\n",
    "        exist.append(i)\n",
    "        \n",
    "    else:\n",
    "    \n",
    "        no_exist.append(i)\n",
    "        "
   ]
  },
  {
   "cell_type": "code",
   "execution_count": 52,
   "metadata": {},
   "outputs": [],
   "source": [
    "top_word_indices1 = np.asarray(top_word_indices1)\n",
    "X_test = np.zeros((len(occ_test), 5000))\n",
    "X_test[:, exist] = occ_test[:, top_word_indices1]\n",
    "X_test = np.log(X_test + 1)"
   ]
  },
  {
   "cell_type": "code",
   "execution_count": 116,
   "metadata": {},
   "outputs": [],
   "source": [
    "clf3 = OneVsRestClassifier(LinearSVC(random_state=0)).fit(X3_train, y3_train)\n",
    "test_pred = clf3.predict(X_test) "
   ]
  },
  {
   "cell_type": "code",
   "execution_count": 117,
   "metadata": {},
   "outputs": [
    {
     "name": "stdout",
     "output_type": "stream",
     "text": [
      "Accuracy_test: 72.81%\n"
     ]
    },
    {
     "data": {
      "text/plain": [
       "Text(0.5,1,'Confusion Matrix for the ')"
      ]
     },
     "execution_count": 117,
     "metadata": {},
     "output_type": "execute_result"
    },
    {
     "data": {
      "image/png": "[encoded data removed]",
      "text/plain": [
       "<Figure size 1080x720 with 2 Axes>"
      ]
     },
     "metadata": {},
     "output_type": "display_data"
    }
   ],
   "source": [
    "from sklearn.metrics import accuracy_score\n",
    "from sklearn.metrics import confusion_matrix\n",
    "import seaborn as sn\n",
    "\n",
    "acc_test = accuracy_score(y_test,test_pred)\n",
    "print(\"Accuracy_test: %0.2f%%\" % (acc_test*100))\n",
    "plt.figure(figsize = (15,10))\n",
    "sn.heatmap(confusion_matrix(y_test,test_pred), annot=True, cmap='YlOrRd')\n",
    "plt.title('Confusion Matrix for the ')\n"
   ]
  },
  {
   "cell_type": "markdown",
   "metadata": {},
   "source": [
    "## f. Model Inspection"
   ]
  },
  {
   "cell_type": "code",
   "execution_count": 157,
   "metadata": {},
   "outputs": [],
   "source": [
    "coeffs = clf3.coef_\n",
    "highest = []\n",
    "lowest = []\n",
    "hw = []\n",
    "lw = []\n",
    "words = np.asarray(words)\n",
    "\n",
    "for i in range (0, 20):\n",
    "    \n",
    "    WORD = -(-np.argsort(coeffs[i,:]))\n",
    "    weights = -np.sort(-coeffs)\n",
    "    hw = weights[0:10]\n",
    "    lw = weights[-10:]    \n",
    "    highest.append(words[WORD[0:10]])\n",
    "    lowest.append(words[WORD_[-10:]])\n",
    "    "
   ]
  },
  {
   "cell_type": "code",
   "execution_count": 167,
   "metadata": {},
   "outputs": [
    {
     "name": "stdout",
     "output_type": "stream",
     "text": [
      "0\n",
      "['valor' 'bango' 'bazaars' 'hasha' 'marchs' 'reaganomics' 'chelios'\n",
      " 'lived' 'absolute' 'provisios']\n",
      "1\n",
      "['valor' 'bango' 'bazaars' 'hasha' 'marchs' 'reaganomics' 'chelios'\n",
      " 'lived' 'absolute' 'provisios']\n",
      "2\n",
      "['valor' 'bango' 'bazaars' 'hasha' 'marchs' 'reaganomics' 'chelios'\n",
      " 'lived' 'absolute' 'provisios']\n",
      "3\n",
      "['valor' 'bango' 'bazaars' 'hasha' 'marchs' 'reaganomics' 'chelios'\n",
      " 'lived' 'absolute' 'provisios']\n",
      "4\n",
      "['valor' 'bango' 'bazaars' 'hasha' 'marchs' 'reaganomics' 'chelios'\n",
      " 'lived' 'absolute' 'provisios']\n",
      "5\n",
      "['valor' 'bango' 'bazaars' 'hasha' 'marchs' 'reaganomics' 'chelios'\n",
      " 'lived' 'absolute' 'provisios']\n",
      "6\n",
      "['valor' 'bango' 'bazaars' 'hasha' 'marchs' 'reaganomics' 'chelios'\n",
      " 'lived' 'absolute' 'provisios']\n",
      "7\n",
      "['valor' 'bango' 'bazaars' 'hasha' 'marchs' 'reaganomics' 'chelios'\n",
      " 'lived' 'absolute' 'provisios']\n",
      "8\n",
      "['valor' 'bango' 'bazaars' 'hasha' 'marchs' 'reaganomics' 'chelios'\n",
      " 'lived' 'absolute' 'provisios']\n",
      "9\n",
      "['valor' 'bango' 'bazaars' 'hasha' 'marchs' 'reaganomics' 'chelios'\n",
      " 'lived' 'absolute' 'provisios']\n",
      "10\n",
      "['valor' 'bango' 'bazaars' 'hasha' 'marchs' 'reaganomics' 'chelios'\n",
      " 'lived' 'absolute' 'provisios']\n",
      "11\n",
      "['valor' 'bango' 'bazaars' 'hasha' 'marchs' 'reaganomics' 'chelios'\n",
      " 'lived' 'absolute' 'provisios']\n",
      "12\n",
      "['valor' 'bango' 'bazaars' 'hasha' 'marchs' 'reaganomics' 'chelios'\n",
      " 'lived' 'absolute' 'provisios']\n",
      "13\n",
      "['valor' 'bango' 'bazaars' 'hasha' 'marchs' 'reaganomics' 'chelios'\n",
      " 'lived' 'absolute' 'provisios']\n",
      "14\n",
      "['valor' 'bango' 'bazaars' 'hasha' 'marchs' 'reaganomics' 'chelios'\n",
      " 'lived' 'absolute' 'provisios']\n",
      "15\n",
      "['valor' 'bango' 'bazaars' 'hasha' 'marchs' 'reaganomics' 'chelios'\n",
      " 'lived' 'absolute' 'provisios']\n",
      "16\n",
      "['valor' 'bango' 'bazaars' 'hasha' 'marchs' 'reaganomics' 'chelios'\n",
      " 'lived' 'absolute' 'provisios']\n",
      "17\n",
      "['valor' 'bango' 'bazaars' 'hasha' 'marchs' 'reaganomics' 'chelios'\n",
      " 'lived' 'absolute' 'provisios']\n",
      "18\n",
      "['valor' 'bango' 'bazaars' 'hasha' 'marchs' 'reaganomics' 'chelios'\n",
      " 'lived' 'absolute' 'provisios']\n",
      "19\n",
      "['valor' 'bango' 'bazaars' 'hasha' 'marchs' 'reaganomics' 'chelios'\n",
      " 'lived' 'absolute' 'provisios']\n"
     ]
    }
   ],
   "source": [
    "highest = np.asarray(highest)\n",
    "lowest = np.asarray(lowest)\n",
    "hw = np.asarray(hw)\n",
    "lw = np.asarray(lw)\n",
    "\n",
    "# for i in range (0,20):\n",
    "    \n",
    "#     print(i)\n",
    "#     print(lowest[i])"
   ]
  }
 ],
 "metadata": {
  "kernelspec": {
   "display_name": "Python 3",
   "language": "python",
   "name": "python3"
  },
  "language_info": {
   "codemirror_mode": {
    "name": "ipython",
    "version": 3
   },
   "file_extension": ".py",
   "mimetype": "text/x-python",
   "name": "python",
   "nbconvert_exporter": "python",
   "pygments_lexer": "ipython3",
   "version": "3.7.4"
  }
 },
 "nbformat": 4,
 "nbformat_minor": 2
}
